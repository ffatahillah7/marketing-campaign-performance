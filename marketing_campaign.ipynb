{
 "cells": [
  {
   "cell_type": "markdown",
   "id": "f5ee22d7-87c2-43ac-931e-1d3b094a35d9",
   "metadata": {},
   "source": [
    "# IMPORT ALL LIBRARY"
   ]
  },
  {
   "cell_type": "code",
   "execution_count": 2,
   "id": "3a024d65-dcb7-4081-b942-ab27aaccf9d3",
   "metadata": {},
   "outputs": [],
   "source": [
    "#as usual, import all of library you needed\n",
    "import pandas as pd\n",
    "import numpy as np\n",
    "import matplotlib.pyplot as mpl"
   ]
  },
  {
   "cell_type": "markdown",
   "id": "4686faed-224d-4e51-8c83-28babb36ca22",
   "metadata": {},
   "source": [
    "## Read Dataset"
   ]
  },
  {
   "cell_type": "code",
   "execution_count": 3,
   "id": "f2af590e-885f-404d-a45d-f606db6ad00a",
   "metadata": {},
   "outputs": [
    {
     "data": {
      "text/html": [
       "<div>\n",
       "<style scoped>\n",
       "    .dataframe tbody tr th:only-of-type {\n",
       "        vertical-align: middle;\n",
       "    }\n",
       "\n",
       "    .dataframe tbody tr th {\n",
       "        vertical-align: top;\n",
       "    }\n",
       "\n",
       "    .dataframe thead th {\n",
       "        text-align: right;\n",
       "    }\n",
       "</style>\n",
       "<table border=\"1\" class=\"dataframe\">\n",
       "  <thead>\n",
       "    <tr style=\"text-align: right;\">\n",
       "      <th></th>\n",
       "      <th>Campaign_ID</th>\n",
       "      <th>Company</th>\n",
       "      <th>Campaign_Type</th>\n",
       "      <th>Target_Audience</th>\n",
       "      <th>Duration</th>\n",
       "      <th>Channel_Used</th>\n",
       "      <th>Conversion_Rate</th>\n",
       "      <th>Acquisition_Cost</th>\n",
       "      <th>ROI</th>\n",
       "      <th>Location</th>\n",
       "      <th>Language</th>\n",
       "      <th>Clicks</th>\n",
       "      <th>Impressions</th>\n",
       "      <th>Engagement_Score</th>\n",
       "      <th>Customer_Segment</th>\n",
       "      <th>Date</th>\n",
       "    </tr>\n",
       "  </thead>\n",
       "  <tbody>\n",
       "    <tr>\n",
       "      <th>0</th>\n",
       "      <td>1</td>\n",
       "      <td>Innovate Industries</td>\n",
       "      <td>Email</td>\n",
       "      <td>Men 18-24</td>\n",
       "      <td>30 days</td>\n",
       "      <td>Google Ads</td>\n",
       "      <td>0.04</td>\n",
       "      <td>$16,174.00</td>\n",
       "      <td>6.29</td>\n",
       "      <td>Chicago</td>\n",
       "      <td>Spanish</td>\n",
       "      <td>506</td>\n",
       "      <td>1922</td>\n",
       "      <td>6</td>\n",
       "      <td>Health &amp; Wellness</td>\n",
       "      <td>2021-01-01</td>\n",
       "    </tr>\n",
       "    <tr>\n",
       "      <th>1</th>\n",
       "      <td>2</td>\n",
       "      <td>NexGen Systems</td>\n",
       "      <td>Email</td>\n",
       "      <td>Women 35-44</td>\n",
       "      <td>60 days</td>\n",
       "      <td>Google Ads</td>\n",
       "      <td>0.12</td>\n",
       "      <td>$11,566.00</td>\n",
       "      <td>5.61</td>\n",
       "      <td>New York</td>\n",
       "      <td>German</td>\n",
       "      <td>116</td>\n",
       "      <td>7523</td>\n",
       "      <td>7</td>\n",
       "      <td>Fashionistas</td>\n",
       "      <td>2021-01-02</td>\n",
       "    </tr>\n",
       "    <tr>\n",
       "      <th>2</th>\n",
       "      <td>3</td>\n",
       "      <td>Alpha Innovations</td>\n",
       "      <td>Influencer</td>\n",
       "      <td>Men 25-34</td>\n",
       "      <td>30 days</td>\n",
       "      <td>YouTube</td>\n",
       "      <td>0.07</td>\n",
       "      <td>$10,200.00</td>\n",
       "      <td>7.18</td>\n",
       "      <td>Los Angeles</td>\n",
       "      <td>French</td>\n",
       "      <td>584</td>\n",
       "      <td>7698</td>\n",
       "      <td>1</td>\n",
       "      <td>Outdoor Adventurers</td>\n",
       "      <td>2021-01-03</td>\n",
       "    </tr>\n",
       "    <tr>\n",
       "      <th>3</th>\n",
       "      <td>4</td>\n",
       "      <td>DataTech Solutions</td>\n",
       "      <td>Display</td>\n",
       "      <td>All Ages</td>\n",
       "      <td>60 days</td>\n",
       "      <td>YouTube</td>\n",
       "      <td>0.11</td>\n",
       "      <td>$12,724.00</td>\n",
       "      <td>5.55</td>\n",
       "      <td>Miami</td>\n",
       "      <td>Mandarin</td>\n",
       "      <td>217</td>\n",
       "      <td>1820</td>\n",
       "      <td>7</td>\n",
       "      <td>Health &amp; Wellness</td>\n",
       "      <td>2021-01-04</td>\n",
       "    </tr>\n",
       "    <tr>\n",
       "      <th>4</th>\n",
       "      <td>5</td>\n",
       "      <td>NexGen Systems</td>\n",
       "      <td>Email</td>\n",
       "      <td>Men 25-34</td>\n",
       "      <td>15 days</td>\n",
       "      <td>YouTube</td>\n",
       "      <td>0.05</td>\n",
       "      <td>$16,452.00</td>\n",
       "      <td>6.50</td>\n",
       "      <td>Los Angeles</td>\n",
       "      <td>Mandarin</td>\n",
       "      <td>379</td>\n",
       "      <td>4201</td>\n",
       "      <td>3</td>\n",
       "      <td>Health &amp; Wellness</td>\n",
       "      <td>2021-01-05</td>\n",
       "    </tr>\n",
       "  </tbody>\n",
       "</table>\n",
       "</div>"
      ],
      "text/plain": [
       "   Campaign_ID              Company Campaign_Type Target_Audience Duration  \\\n",
       "0            1  Innovate Industries         Email       Men 18-24  30 days   \n",
       "1            2       NexGen Systems         Email     Women 35-44  60 days   \n",
       "2            3    Alpha Innovations    Influencer       Men 25-34  30 days   \n",
       "3            4   DataTech Solutions       Display        All Ages  60 days   \n",
       "4            5       NexGen Systems         Email       Men 25-34  15 days   \n",
       "\n",
       "  Channel_Used  Conversion_Rate Acquisition_Cost   ROI     Location  Language  \\\n",
       "0   Google Ads             0.04       $16,174.00  6.29      Chicago   Spanish   \n",
       "1   Google Ads             0.12       $11,566.00  5.61     New York    German   \n",
       "2      YouTube             0.07       $10,200.00  7.18  Los Angeles    French   \n",
       "3      YouTube             0.11       $12,724.00  5.55        Miami  Mandarin   \n",
       "4      YouTube             0.05       $16,452.00  6.50  Los Angeles  Mandarin   \n",
       "\n",
       "   Clicks  Impressions  Engagement_Score     Customer_Segment        Date  \n",
       "0     506         1922                 6    Health & Wellness  2021-01-01  \n",
       "1     116         7523                 7         Fashionistas  2021-01-02  \n",
       "2     584         7698                 1  Outdoor Adventurers  2021-01-03  \n",
       "3     217         1820                 7    Health & Wellness  2021-01-04  \n",
       "4     379         4201                 3    Health & Wellness  2021-01-05  "
      ]
     },
     "execution_count": 3,
     "metadata": {},
     "output_type": "execute_result"
    }
   ],
   "source": [
    "df = pd.read_csv('C:\\\\Users\\\\ffatahillah\\\\Documents\\\\dataset\\\\marketing_campaign_dataset.csv')\n",
    "df.head()"
   ]
  },
  {
   "cell_type": "markdown",
   "id": "91dd4b60-12bd-4e8d-aa6d-7ff825b1ab13",
   "metadata": {},
   "source": [
    "## Show Column and Datatype Info"
   ]
  },
  {
   "cell_type": "code",
   "execution_count": 4,
   "id": "29277dae-e627-462f-bc5f-9d4096064d0a",
   "metadata": {},
   "outputs": [
    {
     "name": "stdout",
     "output_type": "stream",
     "text": [
      "<class 'pandas.core.frame.DataFrame'>\n",
      "RangeIndex: 200000 entries, 0 to 199999\n",
      "Data columns (total 16 columns):\n",
      " #   Column            Non-Null Count   Dtype  \n",
      "---  ------            --------------   -----  \n",
      " 0   Campaign_ID       200000 non-null  int64  \n",
      " 1   Company           200000 non-null  object \n",
      " 2   Campaign_Type     200000 non-null  object \n",
      " 3   Target_Audience   200000 non-null  object \n",
      " 4   Duration          200000 non-null  object \n",
      " 5   Channel_Used      200000 non-null  object \n",
      " 6   Conversion_Rate   200000 non-null  float64\n",
      " 7   Acquisition_Cost  200000 non-null  object \n",
      " 8   ROI               200000 non-null  float64\n",
      " 9   Location          200000 non-null  object \n",
      " 10  Language          200000 non-null  object \n",
      " 11  Clicks            200000 non-null  int64  \n",
      " 12  Impressions       200000 non-null  int64  \n",
      " 13  Engagement_Score  200000 non-null  int64  \n",
      " 14  Customer_Segment  200000 non-null  object \n",
      " 15  Date              200000 non-null  object \n",
      "dtypes: float64(2), int64(4), object(10)\n",
      "memory usage: 24.4+ MB\n"
     ]
    }
   ],
   "source": [
    "df.info()"
   ]
  },
  {
   "cell_type": "markdown",
   "id": "eceeef67-7bbc-4f4c-81ed-35540321fe42",
   "metadata": {},
   "source": [
    "## Show first conclution"
   ]
  },
  {
   "cell_type": "code",
   "execution_count": 5,
   "id": "c7360f77-867a-405b-9e5f-8b16e0ed297b",
   "metadata": {},
   "outputs": [
    {
     "data": {
      "text/html": [
       "<div>\n",
       "<style scoped>\n",
       "    .dataframe tbody tr th:only-of-type {\n",
       "        vertical-align: middle;\n",
       "    }\n",
       "\n",
       "    .dataframe tbody tr th {\n",
       "        vertical-align: top;\n",
       "    }\n",
       "\n",
       "    .dataframe thead th {\n",
       "        text-align: right;\n",
       "    }\n",
       "</style>\n",
       "<table border=\"1\" class=\"dataframe\">\n",
       "  <thead>\n",
       "    <tr style=\"text-align: right;\">\n",
       "      <th></th>\n",
       "      <th>Campaign_ID</th>\n",
       "      <th>Conversion_Rate</th>\n",
       "      <th>ROI</th>\n",
       "      <th>Clicks</th>\n",
       "      <th>Impressions</th>\n",
       "      <th>Engagement_Score</th>\n",
       "    </tr>\n",
       "  </thead>\n",
       "  <tbody>\n",
       "    <tr>\n",
       "      <th>count</th>\n",
       "      <td>200000.000000</td>\n",
       "      <td>200000.000000</td>\n",
       "      <td>200000.000000</td>\n",
       "      <td>200000.000000</td>\n",
       "      <td>200000.000000</td>\n",
       "      <td>200000.000000</td>\n",
       "    </tr>\n",
       "    <tr>\n",
       "      <th>mean</th>\n",
       "      <td>100000.500000</td>\n",
       "      <td>0.080070</td>\n",
       "      <td>5.002438</td>\n",
       "      <td>549.772030</td>\n",
       "      <td>5507.301520</td>\n",
       "      <td>5.494710</td>\n",
       "    </tr>\n",
       "    <tr>\n",
       "      <th>std</th>\n",
       "      <td>57735.171256</td>\n",
       "      <td>0.040602</td>\n",
       "      <td>1.734488</td>\n",
       "      <td>260.019056</td>\n",
       "      <td>2596.864286</td>\n",
       "      <td>2.872581</td>\n",
       "    </tr>\n",
       "    <tr>\n",
       "      <th>min</th>\n",
       "      <td>1.000000</td>\n",
       "      <td>0.010000</td>\n",
       "      <td>2.000000</td>\n",
       "      <td>100.000000</td>\n",
       "      <td>1000.000000</td>\n",
       "      <td>1.000000</td>\n",
       "    </tr>\n",
       "    <tr>\n",
       "      <th>25%</th>\n",
       "      <td>50000.750000</td>\n",
       "      <td>0.050000</td>\n",
       "      <td>3.500000</td>\n",
       "      <td>325.000000</td>\n",
       "      <td>3266.000000</td>\n",
       "      <td>3.000000</td>\n",
       "    </tr>\n",
       "    <tr>\n",
       "      <th>50%</th>\n",
       "      <td>100000.500000</td>\n",
       "      <td>0.080000</td>\n",
       "      <td>5.010000</td>\n",
       "      <td>550.000000</td>\n",
       "      <td>5517.500000</td>\n",
       "      <td>5.000000</td>\n",
       "    </tr>\n",
       "    <tr>\n",
       "      <th>75%</th>\n",
       "      <td>150000.250000</td>\n",
       "      <td>0.120000</td>\n",
       "      <td>6.510000</td>\n",
       "      <td>775.000000</td>\n",
       "      <td>7753.000000</td>\n",
       "      <td>8.000000</td>\n",
       "    </tr>\n",
       "    <tr>\n",
       "      <th>max</th>\n",
       "      <td>200000.000000</td>\n",
       "      <td>0.150000</td>\n",
       "      <td>8.000000</td>\n",
       "      <td>1000.000000</td>\n",
       "      <td>10000.000000</td>\n",
       "      <td>10.000000</td>\n",
       "    </tr>\n",
       "  </tbody>\n",
       "</table>\n",
       "</div>"
      ],
      "text/plain": [
       "         Campaign_ID  Conversion_Rate            ROI         Clicks  \\\n",
       "count  200000.000000    200000.000000  200000.000000  200000.000000   \n",
       "mean   100000.500000         0.080070       5.002438     549.772030   \n",
       "std     57735.171256         0.040602       1.734488     260.019056   \n",
       "min         1.000000         0.010000       2.000000     100.000000   \n",
       "25%     50000.750000         0.050000       3.500000     325.000000   \n",
       "50%    100000.500000         0.080000       5.010000     550.000000   \n",
       "75%    150000.250000         0.120000       6.510000     775.000000   \n",
       "max    200000.000000         0.150000       8.000000    1000.000000   \n",
       "\n",
       "         Impressions  Engagement_Score  \n",
       "count  200000.000000     200000.000000  \n",
       "mean     5507.301520          5.494710  \n",
       "std      2596.864286          2.872581  \n",
       "min      1000.000000          1.000000  \n",
       "25%      3266.000000          3.000000  \n",
       "50%      5517.500000          5.000000  \n",
       "75%      7753.000000          8.000000  \n",
       "max     10000.000000         10.000000  "
      ]
     },
     "execution_count": 5,
     "metadata": {},
     "output_type": "execute_result"
    }
   ],
   "source": [
    "df.describe()"
   ]
  },
  {
   "cell_type": "markdown",
   "id": "509ebc72-2aae-409c-aa77-3ae01049456d",
   "metadata": {},
   "source": [
    "# Data Preparation"
   ]
  },
  {
   "cell_type": "markdown",
   "id": "d6d2a511-8c11-45a2-9ca0-78bcc5261ddf",
   "metadata": {},
   "source": [
    "## Check Missing or Null Value"
   ]
  },
  {
   "cell_type": "code",
   "execution_count": 6,
   "id": "47735ba1-e3a0-4972-b3fb-16c41ecb708a",
   "metadata": {},
   "outputs": [
    {
     "data": {
      "text/plain": [
       "Campaign_ID         0\n",
       "Company             0\n",
       "Campaign_Type       0\n",
       "Target_Audience     0\n",
       "Duration            0\n",
       "Channel_Used        0\n",
       "Conversion_Rate     0\n",
       "Acquisition_Cost    0\n",
       "ROI                 0\n",
       "Location            0\n",
       "Language            0\n",
       "Clicks              0\n",
       "Impressions         0\n",
       "Engagement_Score    0\n",
       "Customer_Segment    0\n",
       "Date                0\n",
       "dtype: int64"
      ]
     },
     "execution_count": 6,
     "metadata": {},
     "output_type": "execute_result"
    }
   ],
   "source": [
    "df.isnull().sum()"
   ]
  },
  {
   "cell_type": "markdown",
   "id": "246b5390-563a-46f7-a6d4-f431ed309bfa",
   "metadata": {},
   "source": [
    "## Change Format Data Type"
   ]
  },
  {
   "cell_type": "code",
   "execution_count": 7,
   "id": "c4713b9d-f819-4279-8d21-5d2f170a7404",
   "metadata": {},
   "outputs": [
    {
     "name": "stdout",
     "output_type": "stream",
     "text": [
      "<class 'pandas.core.frame.DataFrame'>\n",
      "RangeIndex: 200000 entries, 0 to 199999\n",
      "Data columns (total 16 columns):\n",
      " #   Column            Non-Null Count   Dtype         \n",
      "---  ------            --------------   -----         \n",
      " 0   Campaign_ID       200000 non-null  int64         \n",
      " 1   Company           200000 non-null  object        \n",
      " 2   Campaign_Type     200000 non-null  object        \n",
      " 3   Target_Audience   200000 non-null  object        \n",
      " 4   Duration          200000 non-null  int32         \n",
      " 5   Channel_Used      200000 non-null  object        \n",
      " 6   Conversion_Rate   200000 non-null  float64       \n",
      " 7   Acquisition_Cost  200000 non-null  float64       \n",
      " 8   ROI               200000 non-null  float64       \n",
      " 9   Location          200000 non-null  object        \n",
      " 10  Language          200000 non-null  object        \n",
      " 11  Clicks            200000 non-null  int64         \n",
      " 12  Impressions       200000 non-null  int64         \n",
      " 13  Engagement_Score  200000 non-null  int64         \n",
      " 14  Customer_Segment  200000 non-null  object        \n",
      " 15  Date              200000 non-null  datetime64[ns]\n",
      "dtypes: datetime64[ns](1), float64(3), int32(1), int64(4), object(7)\n",
      "memory usage: 23.7+ MB\n"
     ]
    }
   ],
   "source": [
    "# Clean up columns name with contains space\n",
    "df.columns = df.columns.str.strip()\n",
    "\n",
    "# Change income from object to data float, remove $ sign and commas\n",
    "df['Acquisition_Cost'] = df['Acquisition_Cost'].astype(str).str.replace(',','').str.replace('$','').astype(float)\n",
    "\n",
    "# Change date from object to date\n",
    "df['Date']=pd.to_datetime(df['Date'])\n",
    "\n",
    "# Change duration column to number of days\n",
    "df['Duration'] = df['Duration'].str.extract('(\\d+)').astype(int)\n",
    "\n",
    "df.info()"
   ]
  },
  {
   "cell_type": "code",
   "execution_count": 8,
   "id": "82cd9ebf-9794-40d5-8d44-c80b3a935f21",
   "metadata": {},
   "outputs": [
    {
     "data": {
      "text/html": [
       "<div>\n",
       "<style scoped>\n",
       "    .dataframe tbody tr th:only-of-type {\n",
       "        vertical-align: middle;\n",
       "    }\n",
       "\n",
       "    .dataframe tbody tr th {\n",
       "        vertical-align: top;\n",
       "    }\n",
       "\n",
       "    .dataframe thead th {\n",
       "        text-align: right;\n",
       "    }\n",
       "</style>\n",
       "<table border=\"1\" class=\"dataframe\">\n",
       "  <thead>\n",
       "    <tr style=\"text-align: right;\">\n",
       "      <th></th>\n",
       "      <th>Campaign_ID</th>\n",
       "      <th>Company</th>\n",
       "      <th>Campaign_Type</th>\n",
       "      <th>Target_Audience</th>\n",
       "      <th>Duration</th>\n",
       "      <th>Channel_Used</th>\n",
       "      <th>Conversion_Rate</th>\n",
       "      <th>Acquisition_Cost</th>\n",
       "      <th>ROI</th>\n",
       "      <th>Location</th>\n",
       "      <th>Language</th>\n",
       "      <th>Clicks</th>\n",
       "      <th>Impressions</th>\n",
       "      <th>Engagement_Score</th>\n",
       "      <th>Customer_Segment</th>\n",
       "      <th>Date</th>\n",
       "    </tr>\n",
       "  </thead>\n",
       "  <tbody>\n",
       "    <tr>\n",
       "      <th>0</th>\n",
       "      <td>1</td>\n",
       "      <td>Innovate Industries</td>\n",
       "      <td>Email</td>\n",
       "      <td>Men 18-24</td>\n",
       "      <td>30</td>\n",
       "      <td>Google Ads</td>\n",
       "      <td>0.04</td>\n",
       "      <td>16174.0</td>\n",
       "      <td>6.29</td>\n",
       "      <td>Chicago</td>\n",
       "      <td>Spanish</td>\n",
       "      <td>506</td>\n",
       "      <td>1922</td>\n",
       "      <td>6</td>\n",
       "      <td>Health &amp; Wellness</td>\n",
       "      <td>2021-01-01</td>\n",
       "    </tr>\n",
       "    <tr>\n",
       "      <th>1</th>\n",
       "      <td>2</td>\n",
       "      <td>NexGen Systems</td>\n",
       "      <td>Email</td>\n",
       "      <td>Women 35-44</td>\n",
       "      <td>60</td>\n",
       "      <td>Google Ads</td>\n",
       "      <td>0.12</td>\n",
       "      <td>11566.0</td>\n",
       "      <td>5.61</td>\n",
       "      <td>New York</td>\n",
       "      <td>German</td>\n",
       "      <td>116</td>\n",
       "      <td>7523</td>\n",
       "      <td>7</td>\n",
       "      <td>Fashionistas</td>\n",
       "      <td>2021-01-02</td>\n",
       "    </tr>\n",
       "    <tr>\n",
       "      <th>2</th>\n",
       "      <td>3</td>\n",
       "      <td>Alpha Innovations</td>\n",
       "      <td>Influencer</td>\n",
       "      <td>Men 25-34</td>\n",
       "      <td>30</td>\n",
       "      <td>YouTube</td>\n",
       "      <td>0.07</td>\n",
       "      <td>10200.0</td>\n",
       "      <td>7.18</td>\n",
       "      <td>Los Angeles</td>\n",
       "      <td>French</td>\n",
       "      <td>584</td>\n",
       "      <td>7698</td>\n",
       "      <td>1</td>\n",
       "      <td>Outdoor Adventurers</td>\n",
       "      <td>2021-01-03</td>\n",
       "    </tr>\n",
       "    <tr>\n",
       "      <th>3</th>\n",
       "      <td>4</td>\n",
       "      <td>DataTech Solutions</td>\n",
       "      <td>Display</td>\n",
       "      <td>All Ages</td>\n",
       "      <td>60</td>\n",
       "      <td>YouTube</td>\n",
       "      <td>0.11</td>\n",
       "      <td>12724.0</td>\n",
       "      <td>5.55</td>\n",
       "      <td>Miami</td>\n",
       "      <td>Mandarin</td>\n",
       "      <td>217</td>\n",
       "      <td>1820</td>\n",
       "      <td>7</td>\n",
       "      <td>Health &amp; Wellness</td>\n",
       "      <td>2021-01-04</td>\n",
       "    </tr>\n",
       "    <tr>\n",
       "      <th>4</th>\n",
       "      <td>5</td>\n",
       "      <td>NexGen Systems</td>\n",
       "      <td>Email</td>\n",
       "      <td>Men 25-34</td>\n",
       "      <td>15</td>\n",
       "      <td>YouTube</td>\n",
       "      <td>0.05</td>\n",
       "      <td>16452.0</td>\n",
       "      <td>6.50</td>\n",
       "      <td>Los Angeles</td>\n",
       "      <td>Mandarin</td>\n",
       "      <td>379</td>\n",
       "      <td>4201</td>\n",
       "      <td>3</td>\n",
       "      <td>Health &amp; Wellness</td>\n",
       "      <td>2021-01-05</td>\n",
       "    </tr>\n",
       "    <tr>\n",
       "      <th>5</th>\n",
       "      <td>6</td>\n",
       "      <td>DataTech Solutions</td>\n",
       "      <td>Display</td>\n",
       "      <td>All Ages</td>\n",
       "      <td>15</td>\n",
       "      <td>Instagram</td>\n",
       "      <td>0.07</td>\n",
       "      <td>9716.0</td>\n",
       "      <td>4.36</td>\n",
       "      <td>New York</td>\n",
       "      <td>German</td>\n",
       "      <td>100</td>\n",
       "      <td>1643</td>\n",
       "      <td>1</td>\n",
       "      <td>Foodies</td>\n",
       "      <td>2021-01-06</td>\n",
       "    </tr>\n",
       "    <tr>\n",
       "      <th>6</th>\n",
       "      <td>7</td>\n",
       "      <td>NexGen Systems</td>\n",
       "      <td>Email</td>\n",
       "      <td>Women 35-44</td>\n",
       "      <td>60</td>\n",
       "      <td>Website</td>\n",
       "      <td>0.13</td>\n",
       "      <td>11067.0</td>\n",
       "      <td>2.86</td>\n",
       "      <td>Los Angeles</td>\n",
       "      <td>Spanish</td>\n",
       "      <td>817</td>\n",
       "      <td>8749</td>\n",
       "      <td>10</td>\n",
       "      <td>Tech Enthusiasts</td>\n",
       "      <td>2021-01-07</td>\n",
       "    </tr>\n",
       "    <tr>\n",
       "      <th>7</th>\n",
       "      <td>8</td>\n",
       "      <td>DataTech Solutions</td>\n",
       "      <td>Search</td>\n",
       "      <td>Men 18-24</td>\n",
       "      <td>45</td>\n",
       "      <td>Google Ads</td>\n",
       "      <td>0.08</td>\n",
       "      <td>13280.0</td>\n",
       "      <td>5.55</td>\n",
       "      <td>Los Angeles</td>\n",
       "      <td>Mandarin</td>\n",
       "      <td>624</td>\n",
       "      <td>7854</td>\n",
       "      <td>7</td>\n",
       "      <td>Outdoor Adventurers</td>\n",
       "      <td>2021-01-08</td>\n",
       "    </tr>\n",
       "    <tr>\n",
       "      <th>8</th>\n",
       "      <td>9</td>\n",
       "      <td>Alpha Innovations</td>\n",
       "      <td>Social Media</td>\n",
       "      <td>Women 35-44</td>\n",
       "      <td>15</td>\n",
       "      <td>Facebook</td>\n",
       "      <td>0.09</td>\n",
       "      <td>18066.0</td>\n",
       "      <td>6.73</td>\n",
       "      <td>Chicago</td>\n",
       "      <td>German</td>\n",
       "      <td>861</td>\n",
       "      <td>1754</td>\n",
       "      <td>6</td>\n",
       "      <td>Tech Enthusiasts</td>\n",
       "      <td>2021-01-09</td>\n",
       "    </tr>\n",
       "    <tr>\n",
       "      <th>9</th>\n",
       "      <td>10</td>\n",
       "      <td>TechCorp</td>\n",
       "      <td>Email</td>\n",
       "      <td>Women 35-44</td>\n",
       "      <td>15</td>\n",
       "      <td>Instagram</td>\n",
       "      <td>0.09</td>\n",
       "      <td>13766.0</td>\n",
       "      <td>3.78</td>\n",
       "      <td>Los Angeles</td>\n",
       "      <td>English</td>\n",
       "      <td>642</td>\n",
       "      <td>3856</td>\n",
       "      <td>3</td>\n",
       "      <td>Tech Enthusiasts</td>\n",
       "      <td>2021-01-10</td>\n",
       "    </tr>\n",
       "  </tbody>\n",
       "</table>\n",
       "</div>"
      ],
      "text/plain": [
       "   Campaign_ID              Company Campaign_Type Target_Audience  Duration  \\\n",
       "0            1  Innovate Industries         Email       Men 18-24        30   \n",
       "1            2       NexGen Systems         Email     Women 35-44        60   \n",
       "2            3    Alpha Innovations    Influencer       Men 25-34        30   \n",
       "3            4   DataTech Solutions       Display        All Ages        60   \n",
       "4            5       NexGen Systems         Email       Men 25-34        15   \n",
       "5            6   DataTech Solutions       Display        All Ages        15   \n",
       "6            7       NexGen Systems         Email     Women 35-44        60   \n",
       "7            8   DataTech Solutions        Search       Men 18-24        45   \n",
       "8            9    Alpha Innovations  Social Media     Women 35-44        15   \n",
       "9           10             TechCorp         Email     Women 35-44        15   \n",
       "\n",
       "  Channel_Used  Conversion_Rate  Acquisition_Cost   ROI     Location  \\\n",
       "0   Google Ads             0.04           16174.0  6.29      Chicago   \n",
       "1   Google Ads             0.12           11566.0  5.61     New York   \n",
       "2      YouTube             0.07           10200.0  7.18  Los Angeles   \n",
       "3      YouTube             0.11           12724.0  5.55        Miami   \n",
       "4      YouTube             0.05           16452.0  6.50  Los Angeles   \n",
       "5    Instagram             0.07            9716.0  4.36     New York   \n",
       "6      Website             0.13           11067.0  2.86  Los Angeles   \n",
       "7   Google Ads             0.08           13280.0  5.55  Los Angeles   \n",
       "8     Facebook             0.09           18066.0  6.73      Chicago   \n",
       "9    Instagram             0.09           13766.0  3.78  Los Angeles   \n",
       "\n",
       "   Language  Clicks  Impressions  Engagement_Score     Customer_Segment  \\\n",
       "0   Spanish     506         1922                 6    Health & Wellness   \n",
       "1    German     116         7523                 7         Fashionistas   \n",
       "2    French     584         7698                 1  Outdoor Adventurers   \n",
       "3  Mandarin     217         1820                 7    Health & Wellness   \n",
       "4  Mandarin     379         4201                 3    Health & Wellness   \n",
       "5    German     100         1643                 1              Foodies   \n",
       "6   Spanish     817         8749                10     Tech Enthusiasts   \n",
       "7  Mandarin     624         7854                 7  Outdoor Adventurers   \n",
       "8    German     861         1754                 6     Tech Enthusiasts   \n",
       "9   English     642         3856                 3     Tech Enthusiasts   \n",
       "\n",
       "        Date  \n",
       "0 2021-01-01  \n",
       "1 2021-01-02  \n",
       "2 2021-01-03  \n",
       "3 2021-01-04  \n",
       "4 2021-01-05  \n",
       "5 2021-01-06  \n",
       "6 2021-01-07  \n",
       "7 2021-01-08  \n",
       "8 2021-01-09  \n",
       "9 2021-01-10  "
      ]
     },
     "execution_count": 8,
     "metadata": {},
     "output_type": "execute_result"
    }
   ],
   "source": [
    "df.head(10)"
   ]
  },
  {
   "cell_type": "markdown",
   "id": "d22c225c-b86e-4d25-880a-77f361e74c4d",
   "metadata": {},
   "source": [
    "## Find Distinct list from each columns, just Unique Values. Next, this unique can be transform to category data type"
   ]
  },
  {
   "cell_type": "code",
   "execution_count": 9,
   "id": "7c8c4b21-2c03-43b5-827b-4c068bbed5ce",
   "metadata": {},
   "outputs": [
    {
     "name": "stdout",
     "output_type": "stream",
     "text": [
      "['Innovate Industries' 'NexGen Systems' 'Alpha Innovations'\n",
      " 'DataTech Solutions' 'TechCorp']\n"
     ]
    }
   ],
   "source": [
    "# Company Type\n",
    "Company_Types = df['Company'].unique()\n",
    "print(Company_Types)"
   ]
  },
  {
   "cell_type": "code",
   "execution_count": 10,
   "id": "2f336de9-ec98-4694-b159-f58bc976c573",
   "metadata": {},
   "outputs": [
    {
     "name": "stdout",
     "output_type": "stream",
     "text": [
      "['Email' 'Influencer' 'Display' 'Search' 'Social Media']\n"
     ]
    }
   ],
   "source": [
    "# Campaign Type\n",
    "Campaign = df['Campaign_Type'].unique()\n",
    "print(Campaign)"
   ]
  },
  {
   "cell_type": "code",
   "execution_count": 36,
   "id": "d9a927e4-f29b-4787-9b17-6acfeb8def87",
   "metadata": {},
   "outputs": [
    {
     "name": "stdout",
     "output_type": "stream",
     "text": [
      "['Men 18-24' 'Women 35-44' 'Men 25-34' 'All Ages' 'Women 25-34']\n"
     ]
    }
   ],
   "source": [
    "# target Audience\n",
    "Target = df['Target_Audience'].unique()\n",
    "print(Target)"
   ]
  },
  {
   "cell_type": "code",
   "execution_count": 12,
   "id": "d7feba23-8cdc-41ab-8c92-412a5003e2a0",
   "metadata": {},
   "outputs": [
    {
     "name": "stdout",
     "output_type": "stream",
     "text": [
      "['Google Ads' 'YouTube' 'Instagram' 'Website' 'Facebook' 'Email']\n"
     ]
    }
   ],
   "source": [
    "# Channel Used\n",
    "Channel = df['Channel_Used'].unique()\n",
    "print(Channel)"
   ]
  },
  {
   "cell_type": "code",
   "execution_count": 39,
   "id": "a37bdd08-9653-48ea-9a49-90998c066dbe",
   "metadata": {},
   "outputs": [
    {
     "name": "stdout",
     "output_type": "stream",
     "text": [
      "['Spanish' 'German' 'French' 'Mandarin' 'English']\n"
     ]
    }
   ],
   "source": [
    "# Languages\n",
    "Languages = df['Language'].unique()\n",
    "print(Languages)"
   ]
  },
  {
   "cell_type": "code",
   "execution_count": 41,
   "id": "8e3b343d-d1e6-4715-95d4-d3c973cb71f2",
   "metadata": {},
   "outputs": [
    {
     "name": "stdout",
     "output_type": "stream",
     "text": [
      "['Health & Wellness' 'Fashionistas' 'Outdoor Adventurers' 'Foodies'\n",
      " 'Tech Enthusiasts']\n"
     ]
    }
   ],
   "source": [
    "# Customer Segment\n",
    "CustSegment = df['Customer_Segment'].unique()\n",
    "print(CustSegment)"
   ]
  },
  {
   "cell_type": "code",
   "execution_count": 42,
   "id": "23d5bdb9-62c7-4f5b-abd4-c211eb4957fb",
   "metadata": {},
   "outputs": [
    {
     "name": "stdout",
     "output_type": "stream",
     "text": [
      "['Chicago' 'New York' 'Los Angeles' 'Miami' 'Houston']\n"
     ]
    }
   ],
   "source": [
    "# Location\n",
    "Loc=df['Location'].unique()\n",
    "print(Loc)"
   ]
  },
  {
   "cell_type": "code",
   "execution_count": 31,
   "id": "e9bf15b4-3ea7-4eb9-8b20-21099929034b",
   "metadata": {},
   "outputs": [
    {
     "name": "stdout",
     "output_type": "stream",
     "text": [
      "[ 6  7  1  3 10  4  5  9  2  8]\n"
     ]
    }
   ],
   "source": [
    "# Engagment Score\n",
    "Eng=df['Engagement_Score'].unique()\n",
    "print(Eng)"
   ]
  },
  {
   "cell_type": "markdown",
   "id": "8c2bb4db-e02e-4bf3-bbca-01b7eee8e203",
   "metadata": {},
   "source": [
    "## Transform Column that have unique values to Category Data Type"
   ]
  },
  {
   "cell_type": "code",
   "execution_count": 13,
   "id": "8f4928d1-60a3-4aac-8d4b-1d60b03d2a2d",
   "metadata": {},
   "outputs": [],
   "source": [
    "df['Company'] = df['Company'].astype('category')\n",
    "df['Campaign_Type'] = df['Campaign_Type'].astype('category')\n",
    "df['Target_Audience'] = df['Target_Audience'].astype('category')\n",
    "df['Channel_Used'] = df['Channel_Used'].astype('category')\n",
    "df['Language'] = df['Language'].astype('category')\n",
    "df['Customer_Segment'] = df['Customer_Segment'].astype('category')\n"
   ]
  },
  {
   "cell_type": "code",
   "execution_count": 14,
   "id": "ed334835-b8c0-44f1-970c-ac45940c842b",
   "metadata": {},
   "outputs": [
    {
     "name": "stdout",
     "output_type": "stream",
     "text": [
      "<class 'pandas.core.frame.DataFrame'>\n",
      "RangeIndex: 200000 entries, 0 to 199999\n",
      "Data columns (total 16 columns):\n",
      " #   Column            Non-Null Count   Dtype         \n",
      "---  ------            --------------   -----         \n",
      " 0   Campaign_ID       200000 non-null  int64         \n",
      " 1   Company           200000 non-null  category      \n",
      " 2   Campaign_Type     200000 non-null  category      \n",
      " 3   Target_Audience   200000 non-null  category      \n",
      " 4   Duration          200000 non-null  int32         \n",
      " 5   Channel_Used      200000 non-null  category      \n",
      " 6   Conversion_Rate   200000 non-null  float64       \n",
      " 7   Acquisition_Cost  200000 non-null  float64       \n",
      " 8   ROI               200000 non-null  float64       \n",
      " 9   Location          200000 non-null  object        \n",
      " 10  Language          200000 non-null  category      \n",
      " 11  Clicks            200000 non-null  int64         \n",
      " 12  Impressions       200000 non-null  int64         \n",
      " 13  Engagement_Score  200000 non-null  int64         \n",
      " 14  Customer_Segment  200000 non-null  category      \n",
      " 15  Date              200000 non-null  datetime64[ns]\n",
      "dtypes: category(6), datetime64[ns](1), float64(3), int32(1), int64(4), object(1)\n",
      "memory usage: 15.6+ MB\n"
     ]
    }
   ],
   "source": [
    "df.info()"
   ]
  },
  {
   "cell_type": "markdown",
   "id": "8415efd1-ca84-4b0e-ab24-477cfb414b5b",
   "metadata": {},
   "source": [
    "# Data Visualization"
   ]
  },
  {
   "cell_type": "markdown",
   "id": "ef261fd1-d0db-4362-b47b-d17f7633953f",
   "metadata": {},
   "source": [
    "## Correlation Matrix"
   ]
  },
  {
   "cell_type": "code",
   "execution_count": 26,
   "id": "0e15b5ea-5f03-4204-8315-aa6df31fb159",
   "metadata": {},
   "outputs": [
    {
     "data": {
      "image/png": "[encoded data removed]",
      "text/plain": [
       "<Figure size 640x480 with 2 Axes>"
      ]
     },
     "metadata": {},
     "output_type": "display_data"
    }
   ],
   "source": [
    "corr_matrix = df.corr(numeric_only=True)\n",
    "sns.heatmap(corr_matrix, annot=True, cmap='coolwarm')\n",
    "mpl.title('Correlation Matrix')\n",
    "mpl.show()"
   ]
  },
  {
   "cell_type": "code",
   "execution_count": 33,
   "id": "a2d30db0-5e73-4f14-acc8-543e76e01a00",
   "metadata": {},
   "outputs": [
    {
     "name": "stderr",
     "output_type": "stream",
     "text": [
      "C:\\Users\\ffatahillah\\AppData\\Local\\anaconda3\\Lib\\site-packages\\seaborn\\_oldcore.py:1119: FutureWarning: use_inf_as_na option is deprecated and will be removed in a future version. Convert inf values to NaN before operating instead.\n",
      "  with pd.option_context('mode.use_inf_as_na', True):\n",
      "C:\\Users\\ffatahillah\\AppData\\Local\\anaconda3\\Lib\\site-packages\\seaborn\\_oldcore.py:1057: FutureWarning: The default of observed=False is deprecated and will be changed to True in a future version of pandas. Pass observed=False to retain current behavior or observed=True to adopt the future default and silence this warning.\n",
      "  grouped_data = data.groupby(\n"
     ]
    },
    {
     "data": {
      "image/png": "[encoded data removed]",
      "text/plain": [
       "<Figure size 640x480 with 1 Axes>"
      ]
     },
     "metadata": {},
     "output_type": "display_data"
    }
   ],
   "source": [
    "sns.histplot(data=df, x='Engagement_Score', hue='Channel_Used', kde=True)\n",
    "mpl.title('Distribution of Age with Survived')\n",
    "mpl.show()"
   ]
  },
  {
   "cell_type": "code",
   "execution_count": 22,
   "id": "0fc09a62-c3b6-455a-9d85-98c8281247f0",
   "metadata": {},
   "outputs": [
    {
     "data": {
      "text/html": [
       "<div>\n",
       "<style scoped>\n",
       "    .dataframe tbody tr th:only-of-type {\n",
       "        vertical-align: middle;\n",
       "    }\n",
       "\n",
       "    .dataframe tbody tr th {\n",
       "        vertical-align: top;\n",
       "    }\n",
       "\n",
       "    .dataframe thead th {\n",
       "        text-align: right;\n",
       "    }\n",
       "</style>\n",
       "<table border=\"1\" class=\"dataframe\">\n",
       "  <thead>\n",
       "    <tr style=\"text-align: right;\">\n",
       "      <th></th>\n",
       "      <th>Campaign_ID</th>\n",
       "      <th>Company</th>\n",
       "      <th>Campaign_Type</th>\n",
       "      <th>Target_Audience</th>\n",
       "      <th>Duration</th>\n",
       "      <th>Channel_Used</th>\n",
       "      <th>Conversion_Rate</th>\n",
       "      <th>Acquisition_Cost</th>\n",
       "      <th>ROI</th>\n",
       "      <th>Location</th>\n",
       "      <th>Language</th>\n",
       "      <th>Clicks</th>\n",
       "      <th>Impressions</th>\n",
       "      <th>Engagement_Score</th>\n",
       "      <th>Customer_Segment</th>\n",
       "      <th>Date</th>\n",
       "    </tr>\n",
       "  </thead>\n",
       "  <tbody>\n",
       "    <tr>\n",
       "      <th>5</th>\n",
       "      <td>6</td>\n",
       "      <td>DataTech Solutions</td>\n",
       "      <td>Display</td>\n",
       "      <td>All Ages</td>\n",
       "      <td>15</td>\n",
       "      <td>Instagram</td>\n",
       "      <td>0.07</td>\n",
       "      <td>9716.0</td>\n",
       "      <td>4.36</td>\n",
       "      <td>New York</td>\n",
       "      <td>German</td>\n",
       "      <td>100</td>\n",
       "      <td>1643</td>\n",
       "      <td>1</td>\n",
       "      <td>Foodies</td>\n",
       "      <td>2021-01-06</td>\n",
       "    </tr>\n",
       "    <tr>\n",
       "      <th>9</th>\n",
       "      <td>10</td>\n",
       "      <td>TechCorp</td>\n",
       "      <td>Email</td>\n",
       "      <td>Women 35-44</td>\n",
       "      <td>15</td>\n",
       "      <td>Instagram</td>\n",
       "      <td>0.09</td>\n",
       "      <td>13766.0</td>\n",
       "      <td>3.78</td>\n",
       "      <td>Los Angeles</td>\n",
       "      <td>English</td>\n",
       "      <td>642</td>\n",
       "      <td>3856</td>\n",
       "      <td>3</td>\n",
       "      <td>Tech Enthusiasts</td>\n",
       "      <td>2021-01-10</td>\n",
       "    </tr>\n",
       "    <tr>\n",
       "      <th>13</th>\n",
       "      <td>14</td>\n",
       "      <td>TechCorp</td>\n",
       "      <td>Email</td>\n",
       "      <td>Men 25-34</td>\n",
       "      <td>45</td>\n",
       "      <td>Instagram</td>\n",
       "      <td>0.14</td>\n",
       "      <td>9975.0</td>\n",
       "      <td>7.06</td>\n",
       "      <td>New York</td>\n",
       "      <td>German</td>\n",
       "      <td>994</td>\n",
       "      <td>2201</td>\n",
       "      <td>4</td>\n",
       "      <td>Health &amp; Wellness</td>\n",
       "      <td>2021-01-14</td>\n",
       "    </tr>\n",
       "    <tr>\n",
       "      <th>17</th>\n",
       "      <td>18</td>\n",
       "      <td>Alpha Innovations</td>\n",
       "      <td>Influencer</td>\n",
       "      <td>Men 18-24</td>\n",
       "      <td>15</td>\n",
       "      <td>Instagram</td>\n",
       "      <td>0.14</td>\n",
       "      <td>9485.0</td>\n",
       "      <td>4.48</td>\n",
       "      <td>Miami</td>\n",
       "      <td>French</td>\n",
       "      <td>218</td>\n",
       "      <td>9264</td>\n",
       "      <td>9</td>\n",
       "      <td>Health &amp; Wellness</td>\n",
       "      <td>2021-01-18</td>\n",
       "    </tr>\n",
       "    <tr>\n",
       "      <th>25</th>\n",
       "      <td>26</td>\n",
       "      <td>NexGen Systems</td>\n",
       "      <td>Search</td>\n",
       "      <td>Women 25-34</td>\n",
       "      <td>45</td>\n",
       "      <td>Instagram</td>\n",
       "      <td>0.04</td>\n",
       "      <td>14756.0</td>\n",
       "      <td>6.23</td>\n",
       "      <td>Houston</td>\n",
       "      <td>English</td>\n",
       "      <td>809</td>\n",
       "      <td>8236</td>\n",
       "      <td>10</td>\n",
       "      <td>Health &amp; Wellness</td>\n",
       "      <td>2021-01-26</td>\n",
       "    </tr>\n",
       "    <tr>\n",
       "      <th>...</th>\n",
       "      <td>...</td>\n",
       "      <td>...</td>\n",
       "      <td>...</td>\n",
       "      <td>...</td>\n",
       "      <td>...</td>\n",
       "      <td>...</td>\n",
       "      <td>...</td>\n",
       "      <td>...</td>\n",
       "      <td>...</td>\n",
       "      <td>...</td>\n",
       "      <td>...</td>\n",
       "      <td>...</td>\n",
       "      <td>...</td>\n",
       "      <td>...</td>\n",
       "      <td>...</td>\n",
       "      <td>...</td>\n",
       "    </tr>\n",
       "    <tr>\n",
       "      <th>199966</th>\n",
       "      <td>199967</td>\n",
       "      <td>Innovate Industries</td>\n",
       "      <td>Email</td>\n",
       "      <td>All Ages</td>\n",
       "      <td>45</td>\n",
       "      <td>Instagram</td>\n",
       "      <td>0.03</td>\n",
       "      <td>5371.0</td>\n",
       "      <td>5.92</td>\n",
       "      <td>Chicago</td>\n",
       "      <td>Spanish</td>\n",
       "      <td>728</td>\n",
       "      <td>7857</td>\n",
       "      <td>2</td>\n",
       "      <td>Foodies</td>\n",
       "      <td>2021-11-08</td>\n",
       "    </tr>\n",
       "    <tr>\n",
       "      <th>199969</th>\n",
       "      <td>199970</td>\n",
       "      <td>NexGen Systems</td>\n",
       "      <td>Social Media</td>\n",
       "      <td>All Ages</td>\n",
       "      <td>60</td>\n",
       "      <td>Instagram</td>\n",
       "      <td>0.14</td>\n",
       "      <td>14899.0</td>\n",
       "      <td>7.08</td>\n",
       "      <td>New York</td>\n",
       "      <td>Spanish</td>\n",
       "      <td>753</td>\n",
       "      <td>9673</td>\n",
       "      <td>4</td>\n",
       "      <td>Outdoor Adventurers</td>\n",
       "      <td>2021-11-11</td>\n",
       "    </tr>\n",
       "    <tr>\n",
       "      <th>199972</th>\n",
       "      <td>199973</td>\n",
       "      <td>Alpha Innovations</td>\n",
       "      <td>Search</td>\n",
       "      <td>Women 25-34</td>\n",
       "      <td>30</td>\n",
       "      <td>Instagram</td>\n",
       "      <td>0.14</td>\n",
       "      <td>11639.0</td>\n",
       "      <td>5.31</td>\n",
       "      <td>Houston</td>\n",
       "      <td>Spanish</td>\n",
       "      <td>833</td>\n",
       "      <td>8602</td>\n",
       "      <td>5</td>\n",
       "      <td>Fashionistas</td>\n",
       "      <td>2021-11-14</td>\n",
       "    </tr>\n",
       "    <tr>\n",
       "      <th>199982</th>\n",
       "      <td>199983</td>\n",
       "      <td>Alpha Innovations</td>\n",
       "      <td>Search</td>\n",
       "      <td>Women 25-34</td>\n",
       "      <td>15</td>\n",
       "      <td>Instagram</td>\n",
       "      <td>0.14</td>\n",
       "      <td>13465.0</td>\n",
       "      <td>7.54</td>\n",
       "      <td>Miami</td>\n",
       "      <td>German</td>\n",
       "      <td>996</td>\n",
       "      <td>4654</td>\n",
       "      <td>3</td>\n",
       "      <td>Tech Enthusiasts</td>\n",
       "      <td>2021-11-24</td>\n",
       "    </tr>\n",
       "    <tr>\n",
       "      <th>199992</th>\n",
       "      <td>199993</td>\n",
       "      <td>DataTech Solutions</td>\n",
       "      <td>Social Media</td>\n",
       "      <td>Men 18-24</td>\n",
       "      <td>30</td>\n",
       "      <td>Instagram</td>\n",
       "      <td>0.10</td>\n",
       "      <td>12704.0</td>\n",
       "      <td>6.56</td>\n",
       "      <td>Houston</td>\n",
       "      <td>German</td>\n",
       "      <td>930</td>\n",
       "      <td>6086</td>\n",
       "      <td>4</td>\n",
       "      <td>Foodies</td>\n",
       "      <td>2021-12-04</td>\n",
       "    </tr>\n",
       "  </tbody>\n",
       "</table>\n",
       "<p>33392 rows × 16 columns</p>\n",
       "</div>"
      ],
      "text/plain": [
       "        Campaign_ID              Company Campaign_Type Target_Audience  \\\n",
       "5                 6   DataTech Solutions       Display        All Ages   \n",
       "9                10             TechCorp         Email     Women 35-44   \n",
       "13               14             TechCorp         Email       Men 25-34   \n",
       "17               18    Alpha Innovations    Influencer       Men 18-24   \n",
       "25               26       NexGen Systems        Search     Women 25-34   \n",
       "...             ...                  ...           ...             ...   \n",
       "199966       199967  Innovate Industries         Email        All Ages   \n",
       "199969       199970       NexGen Systems  Social Media        All Ages   \n",
       "199972       199973    Alpha Innovations        Search     Women 25-34   \n",
       "199982       199983    Alpha Innovations        Search     Women 25-34   \n",
       "199992       199993   DataTech Solutions  Social Media       Men 18-24   \n",
       "\n",
       "        Duration Channel_Used  Conversion_Rate  Acquisition_Cost   ROI  \\\n",
       "5             15    Instagram             0.07            9716.0  4.36   \n",
       "9             15    Instagram             0.09           13766.0  3.78   \n",
       "13            45    Instagram             0.14            9975.0  7.06   \n",
       "17            15    Instagram             0.14            9485.0  4.48   \n",
       "25            45    Instagram             0.04           14756.0  6.23   \n",
       "...          ...          ...              ...               ...   ...   \n",
       "199966        45    Instagram             0.03            5371.0  5.92   \n",
       "199969        60    Instagram             0.14           14899.0  7.08   \n",
       "199972        30    Instagram             0.14           11639.0  5.31   \n",
       "199982        15    Instagram             0.14           13465.0  7.54   \n",
       "199992        30    Instagram             0.10           12704.0  6.56   \n",
       "\n",
       "           Location Language  Clicks  Impressions  Engagement_Score  \\\n",
       "5          New York   German     100         1643                 1   \n",
       "9       Los Angeles  English     642         3856                 3   \n",
       "13         New York   German     994         2201                 4   \n",
       "17            Miami   French     218         9264                 9   \n",
       "25          Houston  English     809         8236                10   \n",
       "...             ...      ...     ...          ...               ...   \n",
       "199966      Chicago  Spanish     728         7857                 2   \n",
       "199969     New York  Spanish     753         9673                 4   \n",
       "199972      Houston  Spanish     833         8602                 5   \n",
       "199982        Miami   German     996         4654                 3   \n",
       "199992      Houston   German     930         6086                 4   \n",
       "\n",
       "           Customer_Segment       Date  \n",
       "5                   Foodies 2021-01-06  \n",
       "9          Tech Enthusiasts 2021-01-10  \n",
       "13        Health & Wellness 2021-01-14  \n",
       "17        Health & Wellness 2021-01-18  \n",
       "25        Health & Wellness 2021-01-26  \n",
       "...                     ...        ...  \n",
       "199966              Foodies 2021-11-08  \n",
       "199969  Outdoor Adventurers 2021-11-11  \n",
       "199972         Fashionistas 2021-11-14  \n",
       "199982     Tech Enthusiasts 2021-11-24  \n",
       "199992              Foodies 2021-12-04  \n",
       "\n",
       "[33392 rows x 16 columns]"
      ]
     },
     "execution_count": 22,
     "metadata": {},
     "output_type": "execute_result"
    }
   ],
   "source": [
    "# Filter Data\n",
    "filterChannel=['Youtube','Instagram']\n",
    "fildata = df[df[\"Channel_Used\"].isin(filterChannel)]\n",
    "fildata"
   ]
  },
  {
   "cell_type": "code",
   "execution_count": null,
   "id": "94763c15-ed79-4ffe-946d-294c844d349c",
   "metadata": {},
   "outputs": [],
   "source": []
  },
  {
   "cell_type": "code",
   "execution_count": 24,
   "id": "ae16e951-d7e5-4385-a60e-efe1856f5960",
   "metadata": {},
   "outputs": [
    {
     "data": {
      "text/plain": [
       "417124850.0"
      ]
     },
     "execution_count": 24,
     "metadata": {},
     "output_type": "execute_result"
    }
   ],
   "source": [
    "fildata[\"Acquisition_Cost\"].sum()"
   ]
  },
  {
   "cell_type": "markdown",
   "id": "c81cdd08-eaaa-499a-a2d7-8f4658267aa7",
   "metadata": {},
   "source": [
    "## Channel Used Analysis"
   ]
  },
  {
   "cell_type": "code",
   "execution_count": 19,
   "id": "ccc03d0b-f671-4fb6-90ac-1e1a11545241",
   "metadata": {},
   "outputs": [
    {
     "name": "stderr",
     "output_type": "stream",
     "text": [
      "C:\\Users\\ffatahillah\\AppData\\Local\\anaconda3\\Lib\\site-packages\\seaborn\\categorical.py:641: FutureWarning: The default of observed=False is deprecated and will be changed to True in a future version of pandas. Pass observed=False to retain current behavior or observed=True to adopt the future default and silence this warning.\n",
      "  grouped_vals = vals.groupby(grouper)\n"
     ]
    },
    {
     "data": {
      "image/png": "[encoded data removed]",
      "text/plain": [
       "<Figure size 640x480 with 1 Axes>"
      ]
     },
     "metadata": {},
     "output_type": "display_data"
    },
    {
     "name": "stdout",
     "output_type": "stream",
     "text": [
      "Number of sample Campaignt Type \n",
      "Channel_Used\n",
      "Email         33599\n",
      "Google Ads    33438\n",
      "Instagram     33392\n",
      "YouTube       33392\n",
      "Website       33360\n",
      "Facebook      32819\n",
      "Name: count, dtype: int64\n"
     ]
    }
   ],
   "source": [
    "import seaborn as sns\n",
    "\n",
    "sns.countplot(x=\"Channel_Used\", data=df)\n",
    "mpl.xticks(rotation = 0)\n",
    "mpl.title('Distribution of Channel Used Frequency')\n",
    "mpl.show()\n",
    "print(f\"Number of sample Campaignt Type \\n{df['Channel_Used'].value_counts()}\")"
   ]
  },
  {
   "cell_type": "code",
   "execution_count": 20,
   "id": "7158e0a9-75cd-4d8f-8153-5013e98fa70b",
   "metadata": {},
   "outputs": [
    {
     "name": "stderr",
     "output_type": "stream",
     "text": [
      "C:\\Users\\ffatahillah\\AppData\\Local\\anaconda3\\Lib\\site-packages\\seaborn\\categorical.py:641: FutureWarning: The default of observed=False is deprecated and will be changed to True in a future version of pandas. Pass observed=False to retain current behavior or observed=True to adopt the future default and silence this warning.\n",
      "  grouped_vals = vals.groupby(grouper)\n"
     ]
    },
    {
     "data": {
      "image/png": "[encoded data removed]",
      "text/plain": [
       "<Figure size 640x480 with 1 Axes>"
      ]
     },
     "metadata": {},
     "output_type": "display_data"
    },
    {
     "name": "stdout",
     "output_type": "stream",
     "text": [
      "Number of Company \n",
      "Company\n",
      "TechCorp               40237\n",
      "Alpha Innovations      40051\n",
      "DataTech Solutions     40012\n",
      "NexGen Systems         39991\n",
      "Innovate Industries    39709\n",
      "Name: count, dtype: int64\n"
     ]
    }
   ],
   "source": [
    "sns.countplot(x='Company',data=df)\n",
    "mpl.xticks(rotation=0)\n",
    "mpl.title('Company Distribution')\n",
    "mpl.show()\n",
    "print(f\"Number of Company \\n{df['Company'].value_counts()}\")"
   ]
  },
  {
   "cell_type": "code",
   "execution_count": null,
   "id": "df240e61-9d2e-43a4-b22e-00287c3805ec",
   "metadata": {},
   "outputs": [],
   "source": []
  }
 ],
 "metadata": {
  "kernelspec": {
   "display_name": "Python 3 (ipykernel)",
   "language": "python",
   "name": "python3"
  },
  "language_info": {
   "codemirror_mode": {
    "name": "ipython",
    "version": 3
   },
   "file_extension": ".py",
   "mimetype": "text/x-python",
   "name": "python",
   "nbconvert_exporter": "python",
   "pygments_lexer": "ipython3",
   "version": "3.11.7"
  }
 },
 "nbformat": 4,
 "nbformat_minor": 5
}
